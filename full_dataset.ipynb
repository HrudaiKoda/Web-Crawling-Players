{
 "cells": [
  {
   "cell_type": "code",
   "execution_count": 1,
   "metadata": {
    "id": "dUl-pR0TZaN-"
   },
   "outputs": [],
   "source": [
    "#Run any one cell to select a certain url"
   ]
  },
  {
   "cell_type": "code",
   "execution_count": null,
   "metadata": {
    "id": "iQShvi2kawzd"
   },
   "outputs": [],
   "source": [
    "#If facing issues with the default firefox driver for webscraping using selenium , run the below code\n",
    "!sudo apt-get install chromium-chromedriver\n",
    "!sudo apt-get update\n",
    "!sudo apt-get install chromium-chromedriver\n",
    "#Here the chrome driver is being used , hence replace firefox with Chrome driver as given below\n",
    "from selenium import webdriver\n",
    "options = webdriver.ChromeOptions()\n",
    "options.add_argument('--headless')\n",
    "options.add_argument('--no-sandbox')\n",
    "options.add_argument('--disable-dev-shm-usage')\n",
    "wd = webdriver.Chrome(options=options)"
   ]
  },
  {
   "cell_type": "code",
   "execution_count": 1,
   "metadata": {
    "id": "k_vsk5BDtuAO"
   },
   "outputs": [],
   "source": [
    "#Alphabetical parse url\n",
    "url = \"https://www.espncricinfo.com/ci/content/player/country.html?country=6;alpha=A\""
   ]
  },
  {
   "cell_type": "code",
   "execution_count": 2,
   "metadata": {
    "id": "dNUM_ahiZOiJ"
   },
   "outputs": [],
   "source": [
    "#Country based parse url\n",
    "url = \"https://www.espncricinfo.com/ci/content/player/index.html?country=6\""
   ]
  },
  {
   "cell_type": "code",
   "execution_count": 3,
   "metadata": {
    "id": "y4UqagRqtuAS"
   },
   "outputs": [],
   "source": [
    "from bs4 import BeautifulSoup as bf\n",
    "import requests\n",
    "import pandas as pd\n",
    "import time\n",
    "from selenium import webdriver\n",
    "\n",
    "pd.set_option('display.max_columns', 500)\n",
    "pd.set_option('display.width', 1000)\n",
    "driver = webdriver.Firefox()"
   ]
  },
  {
   "cell_type": "code",
   "execution_count": 4,
   "metadata": {
    "id": "CfN8Hh0YtuAS"
   },
   "outputs": [
    {
     "name": "stdout",
     "output_type": "stream",
     "text": [
      "1.2.4\n",
      "Requirement already satisfied: pandas in /home/gokulvamsit/sem4-summer/IndicWiki/Gokul_IndicWiki/lib/python3.7/site-packages (1.2.4)\n",
      "Requirement already satisfied: python-dateutil>=2.7.3 in /home/gokulvamsit/sem4-summer/IndicWiki/Gokul_IndicWiki/lib/python3.7/site-packages (from pandas) (2.8.1)\n",
      "Requirement already satisfied: numpy>=1.16.5 in /home/gokulvamsit/sem4-summer/IndicWiki/Gokul_IndicWiki/lib/python3.7/site-packages (from pandas) (1.20.1)\n",
      "Requirement already satisfied: pytz>=2017.3 in /home/gokulvamsit/sem4-summer/IndicWiki/Gokul_IndicWiki/lib/python3.7/site-packages (from pandas) (2021.1)\n",
      "Requirement already satisfied: six>=1.5 in /home/gokulvamsit/sem4-summer/IndicWiki/Gokul_IndicWiki/lib/python3.7/site-packages (from python-dateutil>=2.7.3->pandas) (1.12.0)\n",
      "\u001b[33mWARNING: You are using pip version 21.1.1; however, version 21.1.2 is available.\n",
      "You should consider upgrading via the '/home/gokulvamsit/sem4-summer/IndicWiki/Gokul_IndicWiki/bin/python -m pip install --upgrade pip' command.\u001b[0m\n"
     ]
    }
   ],
   "source": [
    "req = requests.get(url)"
   ]
  },
  {
   "cell_type": "code",
   "execution_count": 5,
   "metadata": {
    "id": "01O7E2ZBtuAT"
   },
   "outputs": [],
   "source": [
    "soup = bf(req.text,\"html.parser\")"
   ]
  },
  {
   "cell_type": "code",
   "execution_count": 6,
   "metadata": {
    "id": "zAMybnmjtuAT"
   },
   "outputs": [],
   "source": [
    "search_tag_container = soup.find_all('td')"
   ]
  },
  {
   "cell_type": "code",
   "execution_count": 7,
   "metadata": {
    "id": "7va7aMB6tuAU"
   },
   "outputs": [],
   "source": [
    "#Fetch total urls of players belonging to a country\n",
    "u = list()\n",
    "for job_elem in search_tag_container:\n",
    "    u.append(job_elem.find('a'))\n",
    "    #result.append(job_elem.text)\n",
    "l = set(u)\n",
    "l = list(l)"
   ]
  },
  {
   "cell_type": "code",
   "execution_count": 8,
   "metadata": {
    "id": "zMcBcnhbjwX4"
   },
   "outputs": [],
   "source": [
    "def evaluate(html):\n",
    "  select_divs = html.find_all('div',class_=\"card overflow-hidden mb-3\")\n",
    "  exist = 0\n",
    "  location = 0\n",
    "  for i in range(len(select_divs)):\n",
    "    check = \"\"\n",
    "    try:\n",
    "      check = select_divs[i].find('p',class_=\"benton-bold pl-3 pt-4 pb-3 m-0 player-card-header\").text\n",
    "    except:\n",
    "      k = 1\n",
    "    if(check == \"Career Averages\"):\n",
    "      exist = 1\n",
    "      location = i\n",
    "      break\n",
    "  return exist,select_divs[location]"
   ]
  },
  {
   "cell_type": "code",
   "execution_count": 9,
   "metadata": {
    "id": "ZM0_9SZXVLVk"
   },
   "outputs": [],
   "source": [
    "# Handling images\n",
    "def get_player_image(player_url):\n",
    "    # For fixing installation errors on linux: `sudo apt install firefox-geckodriver`\n",
    "    global driver\n",
    "    driver.get(player_url)\n",
    "    time.sleep(2)\n",
    "    images = driver.find_elements_by_tag_name('img')\n",
    "    images = [image for image in images if \"player-card__face\" in image.get_attribute(\"class\")]\n",
    "    print(images[0].get_attribute(\"src\"))\n",
    "    return [\"image\"], [images[0].get_attribute(\"src\")]"
   ]
  },
  {
   "cell_type": "code",
   "execution_count": 10,
   "metadata": {
    "id": "SxY2A7SCVLVk"
   },
   "outputs": [],
   "source": [
    "# Get trophy info\n",
    "def get_major_trophies_information(major_trophies_soup):\n",
    "    major_trophies_results = {}\n",
    "    all_h5_tags = major_trophies_soup.find_all('h5', class_=\"border-bottom-gray-300 m-0 pl-3 pb-2 table-header\")\n",
    "    if all_h5_tags is None:\n",
    "        return None\n",
    "    required_h5_tag = all_h5_tags[0]\n",
    "    for h5_tag in all_h5_tags:\n",
    "        if str(h5_tag.text).strip() == \"In Major Trophies\":\n",
    "            required_h5_tag = h5_tag\n",
    "            break\n",
    "    if str(required_h5_tag.text).strip() != \"In Major Trophies\":\n",
    "        return [\"Major trophies\"], [[major_trophies_results]]    \n",
    "    major_trophies_table_head = required_h5_tag.findNext('thead')\n",
    "    major_trophies_table_headings = major_trophies_table_head.find_all('th')\n",
    "    major_trophies_table_headings_count = 0\n",
    "    major_trophies_headings_list = []\n",
    "    for table_heading in major_trophies_table_headings:\n",
    "        major_trophies_headings_list.append(table_heading.text)\n",
    "    major_trophies_table_headings_count = len(major_trophies_headings_list)\n",
    "    # print('Major Trophies table Head count', major_trophies_table_headings_count)\n",
    "    current_title = \"HOME\"\n",
    "    major_trophies_table_body = major_trophies_table_head.findNext('tbody')\n",
    "    major_trophies_table_data = major_trophies_table_body.find_all('td')\n",
    "    t = 0\n",
    "    for table_data in major_trophies_table_data:\n",
    "        attribute_number = t % major_trophies_table_headings_count\n",
    "        if(attribute_number != 0):\n",
    "            major_trophies_results[current_title][major_trophies_headings_list[attribute_number]] = table_data.text\n",
    "        else:\n",
    "            current_title = table_data.text\n",
    "            major_trophies_results[current_title] = {}\n",
    "        t += 1\n",
    "    print(major_trophies_results)\n",
    "    return [\"Major trophies\"], [[major_trophies_results]]"
   ]
  },
  {
   "cell_type": "code",
   "execution_count": 11,
   "metadata": {
    "id": "nLrgeH90VLVl"
   },
   "outputs": [],
   "source": [
    "# Statistical analysis - Home, Away stats and function call to trophy info\n",
    "def get_statistical_analysis_and_trophy_info(req):\n",
    "    analysis_labels = []\n",
    "    analysis_results = []\n",
    "    analysis_url = req.url + \"/bowling-batting-stats\"\n",
    "    #analysis_url = \"https://www.espncricinfo.com/player/virat-kohli-253802/bowling-batting-stats\"\n",
    "    \n",
    "    # selecting dropdown option\n",
    "    global driver\n",
    "    driver.get(analysis_url)\n",
    "    # loading page\n",
    "    time.sleep(2)\n",
    "    dropdowns = driver.find_elements_by_class_name('dropdown-container')\n",
    "    for dropdown in dropdowns:\n",
    "        is_format_dropdown = str(dropdown.find_elements_by_tag_name('button')[0].text).strip() in [\"Test\", \"ODI\", \"T20I\", \"Test+ODI+T20I\"]\n",
    "        is_role_dropdown = str(dropdown.find_elements_by_tag_name('button')[0].text).strip() in [\"Batting\", \"Bowling\", \"Fielding\", \"Allround\"]\n",
    "        if (not is_format_dropdown) and (not is_role_dropdown):\n",
    "            continue\n",
    "        required_span_text = \"Test+ODI+T20I\"\n",
    "        if is_role_dropdown:\n",
    "            required_span_text = \"Allround\"\n",
    "        dropdown.find_elements_by_tag_name('button')[0].click()\n",
    "        all_list_items = dropdown.find_elements_by_tag_name('li')\n",
    "        for list_item in all_list_items:\n",
    "            span_text = list_item.find_elements_by_tag_name('span')[0].text\n",
    "            if span_text == required_span_text:\n",
    "                list_item.click()\n",
    "                break\n",
    "    # waiting for changes to load\n",
    "    time.sleep(2)\n",
    "    analysis_page = driver.page_source\n",
    "    analysis_soup = bf(analysis_page, \"html.parser\")\n",
    "    \n",
    "    all_h5_tags = analysis_soup.find_all('h5', class_=\"border-bottom-gray-300 m-0 pl-3 pb-2 table-header\")\n",
    "    if all_h5_tags is None:\n",
    "        return None\n",
    "    required_h5_tag = all_h5_tags[0]\n",
    "    for h5_tag in all_h5_tags:\n",
    "        if str(h5_tag.text).strip() == \"Home vs Away\":\n",
    "            required_h5_tag = h5_tag\n",
    "            break\n",
    "    if str(required_h5_tag.text).strip() != \"Home vs Away\":\n",
    "        return get_major_trophies_information(analysis_soup)\n",
    "    analysis_table_head = required_h5_tag.findNext('thead')\n",
    "    analysis_table_headings = analysis_table_head.find_all('th')\n",
    "    analysis_table_headings_count = 0\n",
    "    analysis_table_headings_list = []\n",
    "    for table_heading in analysis_table_headings:\n",
    "        analysis_table_headings_list.append(table_heading.text)\n",
    "    analysis_table_headings_count = len(analysis_table_headings_list)\n",
    "    # print('Analysis table Head count', analysis_table_headings_count)\n",
    "    current_title = \"HOME\"\n",
    "    analysis_table_body = analysis_table_head.findNext('tbody')\n",
    "    analysis_table_data = analysis_table_body.find_all('td')\n",
    "    t = 0\n",
    "    for table_data in analysis_table_data:\n",
    "        attribute_number = t % analysis_table_headings_count\n",
    "        if(attribute_number != 0):\n",
    "            analysis_results.append(table_data.text)\n",
    "            analysis_labels.append(current_title + \"_\" + analysis_table_headings_list[attribute_number])\n",
    "        else:\n",
    "            current_title = table_data.text.upper()\n",
    "        t += 1\n",
    "    # for i in range(len(analysis_labels)):\n",
    "    #     print(f'{analysis_labels[i]} : {analysis_results[i]}')\n",
    "    trophy_label, trophy_result = get_major_trophies_information(analysis_soup)\n",
    "    return analysis_labels + trophy_label, analysis_results + trophy_result"
   ]
  },
  {
   "cell_type": "code",
   "execution_count": 12,
   "metadata": {
    "id": "4TAwtcBXVLVl"
   },
   "outputs": [],
   "source": [
    "def find_relations(Relations):\n",
    "    relations_container = Relations.find_next('div')\n",
    "    individual_relations = relations_container.find_all('span')\n",
    "    total_relations = list()\n",
    "    for i in range(len(individual_relations)):\n",
    "        name = individual_relations[i].find('h5').text\n",
    "        bond = individual_relations[i].find('p').text\n",
    "        total_relations.append([name,bond])\n",
    "    return total_relations"
   ]
  },
  {
   "cell_type": "code",
   "execution_count": 13,
   "metadata": {
    "id": "7A_yiQzdtuAU"
   },
   "outputs": [],
   "source": [
    "#Get relevant information related to a player using each player's url\n",
    "def load(req,final_list_players,ind,u,debut_url):\n",
    "    lab = list()\n",
    "    result = list()\n",
    "    soup = bf(req.text,\"html.parser\")\n",
    "    print(soup.title)\n",
    "    search_tag_container = soup.find_all('h5',class_='player-card-description gray-900')\n",
    "    count = 0\n",
    "    for job_elem in search_tag_container:\n",
    "        result.append(job_elem.text)\n",
    "        count+=1\n",
    "    search_tag_container = soup.find_all('p',class_=\"text-uppercase gray-700 mb-0 pb-0-5 player-card-heading\")\n",
    "    for job_elem in search_tag_container:\n",
    "        lab.append(job_elem.text)\n",
    "    ##################################\n",
    "    Relations = soup.find('p',class_=\"text-uppercase gray-700 mb-0 player-card-heading text-uppercase\")\n",
    "    #relation_players = soup.find('p',class_=\"player-card-description player-description-link gray-900 m-0 player-link\")\n",
    "    if(Relations != None):\n",
    "        if(Relations.text.lower()=='relations' or Relations.text.lower()=='relation'):\n",
    "            lab.append(\"Relations\")\n",
    "            all_relations = find_relations(Relations)\n",
    "            result.append([all_relations])\n",
    "    ######################################\n",
    "    rec = extra(u)\n",
    "    lab.append(\"Records\")\n",
    "    result.append([rec])\n",
    "    print(result)\n",
    "    ##########################################\n",
    "    records_format , records_data = format_records(u)\n",
    "    for iter in range(len(records_format)):\n",
    "      lab.append(records_format[iter])\n",
    "      result.append([records_data[iter]])\n",
    "    ###########################################\n",
    "    matches = debut(debut_url)\n",
    "    result.append([matches])\n",
    "    lab.append(\"Matches\")\n",
    "    ##########################################\n",
    "    lab.append(\"Teams\")\n",
    "    team_data = teams_data(soup)\n",
    "    result.append([team_data])\n",
    "    ###########################################\n",
    "    analysis_and_trophy_labels, analysis_and_trophy_results = get_statistical_analysis_and_trophy_info(req)\n",
    "    lab = lab + analysis_and_trophy_labels\n",
    "    result = result + analysis_and_trophy_results\n",
    "    ###########################################\n",
    "    player_image_label, player_image_result = get_player_image(req.url)\n",
    "    lab = lab + player_image_label\n",
    "    result = result + player_image_result\n",
    "    ###########################################\n",
    "    career_span_tag = soup.find('div', class_=\"intl_career-desktop\")\n",
    "    career_span_tag_text = career_span_tag.findNext('p').text\n",
    "    career_span_info = \"\"\n",
    "    start_index = 0\n",
    "    for i in range(len(career_span_tag_text)):\n",
    "        if career_span_tag_text[i] == '1' or career_span_tag_text[i] == '2':\n",
    "            start_index = i\n",
    "            break\n",
    "    career_span_tag_text = career_span_tag_text[start_index:]\n",
    "    result.append(career_span_tag_text)\n",
    "    lab.append(\"career_span\")\n",
    "    ###########################################\n",
    "    search_tag_container = soup.find('div',class_=\"player-card__details\")\n",
    "    l = list()\n",
    "    for job_elem in search_tag_container:\n",
    "        l.append(job_elem.text)\n",
    "        count+=1\n",
    "    p = l[1].split(\"|\")\n",
    "    l.pop()\n",
    "    l.pop()\n",
    "    l = l+p\n",
    "    result = result + l\n",
    "    l_label = [\"Player Name\" , \"Nationality \", \"player-type\"]\n",
    "    lab = lab + l_label\n",
    "    ##########################\n",
    "    valid,soup = evaluate(soup)\n",
    "    if(valid == 1):\n",
    "        search_tag_container = soup.findAll('thead')\n",
    "        for m in range(len(search_tag_container)):\n",
    "            actual_heading = search_tag_container[m].findPrevious('h5').text\n",
    "            current_string = \"_\"\n",
    "            if \"Bowling\" in actual_heading:\n",
    "                current_string = \"Bowling_\"\n",
    "            elif \"Batting\" in actual_heading:\n",
    "                current_string = \"Batting_\"\n",
    "            else:\n",
    "                continue\n",
    "            tag_content = search_tag_container[m].find_all('th')\n",
    "            head = 0\n",
    "            table_labels = list()\n",
    "            table_labels_1 =list()\n",
    "            for job_elem in tag_content:\n",
    "                table_labels.append(job_elem.text)\n",
    "                head+=1\n",
    "            print('Head count',head)\n",
    "\n",
    "            tag_content = search_tag_container[m].findNext('tbody').find_all('td')\n",
    "            track_head_label = 0\n",
    "            current_format = \"\"\n",
    "            for job_elem in tag_content:\n",
    "                attribute_number = track_head_label % head\n",
    "                if(attribute_number != 0):\n",
    "                    result.append(job_elem.text)\n",
    "                    lab.append(current_string + current_format + '_' + table_labels[attribute_number])\n",
    "                    count += 1\n",
    "                else:\n",
    "                    current_format = job_elem.text\n",
    "                track_head_label += 1\n",
    "    ####################################\n",
    "      \n",
    "    print('label--',len(lab))\n",
    "    print('result--',len(result))\n",
    "    \n",
    "    lo = dict(zip(lab,result))\n",
    "    lp = pd.DataFrame(lo,index=[ind])\n",
    "    final_list_players.append(lp)\n",
    "    print('count',count)"
   ]
  },
  {
   "cell_type": "code",
   "execution_count": 14,
   "metadata": {
    "id": "tNzOA_ZttuAV"
   },
   "outputs": [],
   "source": [
    "#Get individual player's \"Records\" information.\n",
    "import re\n",
    "def extra(l):\n",
    "    re = requests.get(l)\n",
    "    time.sleep(2)\n",
    "    so = bf(re.text,\"html.parser\")\n",
    "    res1 = so.find_all('div',class_='col-14 d-flex flex-row')\n",
    "    res = so.find_all('div',class_='row bg-gray-100 class-record-row-p d-flex align-items-center')\n",
    "    #print(res1)\n",
    "    url_list = list()\n",
    "    for i in range(len(res1)):\n",
    "\n",
    "        pre = res1[i].find_all('h1')\n",
    "        loi = res1[i].find_all('p',class_='record-class-title m-0')\n",
    "        #print(loi)    \n",
    "        for j in range(len(pre)):\n",
    "            #print(pre[j].text)\n",
    "            #print(loi[j].text)\n",
    "            url_list.append(str(pre[j].text)  +str(\" \") + str(loi[j].text))\n",
    "    return url_list\n"
   ]
  },
  {
   "cell_type": "code",
   "execution_count": 15,
   "metadata": {
    "id": "gjnpshJ-VSLr"
   },
   "outputs": [],
   "source": [
    "def format_records(url):\n",
    "  req = requests.get(url)\n",
    "  soup = bf(req.text,\"html.parser\")\n",
    "  record_sections = soup.find_all('div',class_=\"card content-block\")\n",
    "  required = ['Test Records','ODI Records','T20I Records']\n",
    "  available_labels = list()\n",
    "  labels_data = list()\n",
    "  count = -1\n",
    "  for i in range(len(record_sections)):\n",
    "    name = record_sections[i].find('h5',class_=\"m-0\")\n",
    "    if(name.text in required):\n",
    "      available_labels.append(name.text)\n",
    "      labels_data.append([])\n",
    "      count +=1\n",
    "      individual_block_record = record_sections[i].find_all('a',class_=\"gray-900 benton-normal d-block\")\n",
    "      for i in range(len(individual_block_record)):\n",
    "        try:\n",
    "          a = individual_block_record[i].find('span',class_=\"m-0 benton-bold gray-1000 pr-3\").text\n",
    "          b = individual_block_record[i].find('span',class_=\"list-record-title\").text\n",
    "          c = individual_block_record[i].find('span',class_=\"m-0 ml-1 gray-600\").text\n",
    "          labels_data[count].append(str(a)+str(\" \")+str(b)+str(\" \")+str(c))\n",
    "        except:\n",
    "          no = 1\n",
    "  return available_labels , labels_data"
   ]
  },
  {
   "cell_type": "code",
   "execution_count": 16,
   "metadata": {
    "id": "rFMqUqH6ON_2"
   },
   "outputs": [],
   "source": [
    "def teams_data(so):\n",
    "  teams = []\n",
    "  loi = so.find_all('h5',class_='m-0 ml-2 link-border-bottom player-description-link')\n",
    "  for i in range(len(loi)):\n",
    "    teams.append(loi[i].text)\n",
    "  return teams"
   ]
  },
  {
   "cell_type": "code",
   "execution_count": 17,
   "metadata": {
    "id": "4Ho2v5lYXUjZ"
   },
   "outputs": [],
   "source": [
    "def debut(link):\n",
    "  player_match = list()\n",
    "  url = link\n",
    "  request = requests.get(url)\n",
    "  soup = bf(request.text,\"html.parser\")\n",
    "  search_tag_container = soup.find_all('div',{'id':'debut-last-matches'})\n",
    "  cp_jo = search_tag_container\n",
    "  if(len(search_tag_container) != 0):\n",
    "    total = cp_jo[0].find_all('div',class_=\"\")\n",
    "    for i in range(len(total)):\n",
    "      p =total[i]\n",
    "      a= p.find('h5',{'class':\"benton-bold player-matches-subtitle d-flex justify-content-between align-items-center player_matches-dropdown m-0\"})\n",
    "      k = total[i].find_all('span',class_=\"match-event-row-debut-last white-space-nowrap\")\n",
    "      search_tag_container = total[i].find_all('span',{\"class\": \"player-match-link\"})\n",
    "      new = total[i].find_all('div',{\"class\":\"col-12 player-match-event-cell white-space-nowrap\"})\n",
    "      #print(a)\n",
    "      #print(k[0])\n",
    "      #print(new)\n",
    "      try:\n",
    "        l =a.span.decompose()\n",
    "      except:\n",
    "        player_match.append(a.text)\n",
    "        #print(a.text)\n",
    "      else:\n",
    "        player_match.append(a.text)\n",
    "        #print(a.text)\n",
    "      for j in range(len(k)):\n",
    "        try:\n",
    "          temp = search_tag_container[j].text\n",
    "        except:\n",
    "          temp = new[j].text\n",
    "        append = k[j].text + str(\" \") + temp\n",
    "        player_match.append(append)\n",
    "        #print(k[j].text,end=\" \")\n",
    "        #print(search_tag_container[j].text)\n",
    "  return player_match"
   ]
  },
  {
   "cell_type": "code",
   "execution_count": null,
   "metadata": {
    "id": "B9c0G1FctuAW"
   },
   "outputs": [
    {
     "name": "stdout",
     "output_type": "stream",
     "text": [
      "https://www.espncricinfo.com/ci/content/player/625371.html\n",
      "player- 0 <title>Hardik Pandya profile and biography, stats, records, averages, photos and videos</title>\n",
      "['Hardik Himanshu Pandya', 'October 11, 1993, Choryasi, Gujarat', '27y 230d', 'Right hand bat', 'Right arm medium fast', 'Allrounder', [[['KH Pandya', ' (brother)']]], [['4th Highest career strike rate (117.31)']]]\n",
      "{'World Cup': {'Span': '2019-2019', 'Mat': '9', 'Runs': '226', 'HS': '48', 'Bat Avg': '32.28', '100s': '0', 'Wkts': '10', 'BBI': '3/60', 'Bowl Avg': '44.70', '5w': '0', 'Ct': '3', 'St': '0', 'Avg Diff': '-12.41'}, 'Asia Cup': {'Span': '2016-2018', 'Mat': '6', 'Runs': '33', 'HS': '31', 'Bat Avg': '11.00', '100s': '0', 'Wkts': '7', 'BBI': '3/8', 'Bowl Avg': '18.14', '5w': '0', 'Ct': '3', 'St': '0', 'Avg Diff': '-7.14'}, 'ICC Champions Trophy': {'Span': '2017-2017', 'Mat': '5', 'Runs': '105', 'HS': '76', 'Bat Avg': '52.50', '100s': '0', 'Wkts': '4', 'BBI': '2/43', 'Bowl Avg': '58.25', '5w': '0', 'Ct': '1', 'St': '0', 'Avg Diff': '-5.75'}, \"Men's T20 World Cup\": {'Span': '2016-2016', 'Mat': '5', 'Runs': '16', 'HS': '15', 'Bat Avg': '8.00', '100s': '0', 'Wkts': '5', 'BBI': '2/29', 'Bowl Avg': '28.60', '5w': '0', 'Ct': '3', 'St': '0', 'Avg Diff': '-20.6'}}\n",
      "https://img1.hscicdn.com/image/upload/f_auto,t_gn_f_345/lsci/db/PICTURES/CMS/319900/319938.png\n",
      "Head count 15\n",
      "Head count 14\n",
      "label-- 220\n",
      "result-- 220\n",
      "count 171\n",
      "https://www.espncricinfo.com/ci/content/player/1070173.html\n",
      "player- 1 <title>Shubman Gill profile and biography, stats, records, averages, photos and videos</title>\n",
      "['Shubman Gill', 'September 08, 1999, Fazilka, Punjab', '21y 263d', 'Right hand bat', 'Right arm offbreak', 'Opening batter', [[]]]\n",
      "{'Border-Gavaskar': {'Span': '2020-2021', 'Mat': '3', 'Runs': '259', 'HS': '91', 'Bat Avg': '51.80', '100s': '0', 'Ct': '2', 'St': '0'}, 'ICC World Test Champ': {'Span': '2020-2021', 'Mat': '7', 'Runs': '378', 'HS': '91', 'Bat Avg': '34.36', '100s': '0', 'Ct': '4', 'St': '0'}}\n",
      "https://img1.hscicdn.com/image/upload/f_auto,t_gn_s_100/lsci/db/PICTURES/CMS/312100/312153.jpg\n",
      "Head count 15\n",
      "Head count 14\n",
      "label-- 166\n",
      "result-- 166\n",
      "count 144\n",
      "https://www.espncricinfo.com/ci/content/player/446507.html\n",
      "player- 2 <title>Suryakumar Yadav profile and biography, stats, records, averages, photos and videos</title>\n",
      "['Suryakumar Ashok Yadav', 'September 14, 1990, Mumbai, Maharashtra', '30y 257d', 'Right hand bat', 'Right arm medium, Right arm offbreak', 'Batter', [[]]]\n",
      "https://img1.hscicdn.com/image/upload/f_auto,t_gn_s_100/lsci/db/PICTURES/CMS/309000/309094.png\n",
      "Head count 15\n",
      "Head count 14\n",
      "label-- 131\n",
      "result-- 131\n",
      "count 117\n",
      "https://www.espncricinfo.com/ci/content/player/1070168.html\n",
      "player- 3 <title>Prithvi Shaw profile and biography, stats, records, averages, photos and videos</title>\n",
      "['Prithvi Pankaj Shaw', 'November 09, 1999, Thane, Maharashtra', '21y 201d', 'Right hand bat', 'Right arm offbreak', 'Opening batter', [[' Hundred on debut (134)', '7th Youngest player to score a hundred (18y 329d)']]]\n",
      "{'Border-Gavaskar': {'Span': '2020-2020', 'Mat': '1', 'Runs': '4', 'HS': '4', 'Bat Avg': '2.00', '100s': '0', 'Ct': '0', 'St': '0'}, 'ICC World Test Champ': {'Span': '2020-2020', 'Mat': '3', 'Runs': '102', 'HS': '54', 'Bat Avg': '17.00', '100s': '0', 'Ct': '0', 'St': '0'}}\n",
      "https://img1.hscicdn.com/image/upload/f_auto,t_gn_s_100/lsci/db/PICTURES/CMS/304100/304189.png\n",
      "Head count 15\n",
      "Head count 14\n",
      "label-- 167\n",
      "result-- 167\n",
      "count 144\n",
      "https://www.espncricinfo.com/ci/content/player/452044.html\n",
      "player- 4 <title>Hanuma Vihari profile and biography, stats, records, averages, photos and videos</title>\n",
      "['Gade Hanuma Vihari', 'October 13, 1993, Kakinada, Andhra Pradesh', '27y 228d', 'Right hand bat', 'Right arm offbreak', 'Batting allrounder', [[]]]\n",
      "{'Border-Gavaskar': {'Span': '2018-2021', 'Mat': '6', 'Runs': '183', 'HS': '42', 'Bat Avg': '20.33', '100s': '0', 'Wkts': '2', 'BBI': '2/53', 'Bowl Avg': '47.00', '5w': '0', 'Ct': '2', 'St': '0', 'Avg Diff': '-26.66'}, 'ICC World Test Champ': {'Span': '2019-2021', 'Mat': '8', 'Runs': '457', 'HS': '111', 'Bat Avg': '38.08', '100s': '1', 'Wkts': '0', 'BBI': '-', 'Bowl Avg': '-', '5w': '0', 'Ct': '2', 'St': '0', 'Avg Diff': '-'}}\n",
      "https://img1.hscicdn.com/image/upload/f_auto,t_gn_s_100/lsci/db/PICTURES/CMS/304100/304197.png\n",
      "Head count 15\n",
      "Head count 14\n",
      "label-- 149\n",
      "result-- 149\n",
      "count 117\n",
      "https://www.espncricinfo.com/ci/content/player/32242.html\n",
      "player- 5 <title>Parthiv Patel profile and biography, stats, records, averages, photos and videos</title>\n",
      "['Parthiv Ajay Patel', 'March 09, 1985, Ahmedabad, Gujarat', '36y 81d', 'Left hand bat', 'Right arm offbreak', 'Wicketkeeper', 'Wicketkeeper batter', [['8th Most consecutive matches missed for a team between appearances (191)', '7th Most stumpings in a series (5)']]]\n",
      "{'Asia Cup': {'Span': '2004-2004', 'Mat': '2', 'Runs': '19', 'HS': '13*', 'Bat Avg': '19.00', '100s': '0', 'Ct': '2', 'St': '0'}, 'Border-Gavaskar': {'Span': '2003-2004', 'Mat': '7', 'Runs': '316', 'HS': '62', 'Bat Avg': '31.60', '100s': '0', 'Ct': '15', 'St': '4'}}\n",
      "https://img1.hscicdn.com/image/upload/f_auto,t_gn_s_100/lsci/db/PICTURES/CMS/304200/304218.png\n",
      "Head count 15\n",
      "Head count 14\n",
      "label-- 204\n",
      "result-- 204\n",
      "count 172\n",
      "https://www.espncricinfo.com/ci/content/player/642519.html\n",
      "player- 6 <title>Shreyas Iyer profile and biography, stats, records, averages, photos and videos</title>\n",
      "['Shreyas Santosh Iyer', 'December 06, 1994, Mumbai', '26y 174d', 'Right hand bat', 'Legbreak googly', 'Top order batter', [[]]]\n",
      "https://img1.hscicdn.com/image/upload/f_auto,t_gn_s_100/lsci/db/PICTURES/CMS/309100/309198.1.jpg\n",
      "Head count 15\n",
      "Head count 14\n",
      "label-- 174\n",
      "result-- 174\n",
      "count 144\n",
      "https://www.espncricinfo.com/ci/content/player/33141.html\n",
      "player- 7 <title>Ambati Rayudu profile and biography, stats, records, averages, photos and videos</title>\n",
      "['Ambati Thirupathi Rayudu', 'September 23, 1985, Guntur, Andhra Pradesh', '35y 248d', 'Right hand bat', 'Right arm offbreak', 'Occasional wicketkeeper', 'Middle order batter', [[]]]\n",
      "{'Asia Cup': {'Span': '2014-2018', 'Mat': '10', 'Runs': '260', 'HS': '60', 'Bat Avg': '43.33', '100s': '0', 'Wkts': '0', 'BBI': '-', '5w': '0', 'Ct': '1', 'St': '0'}}\n",
      "https://img1.hscicdn.com/image/upload/f_auto,t_gn_f_345/lsci/db/PICTURES/CMS/316400/316499.png\n",
      "Head count 15\n",
      "Head count 14\n",
      "label-- 191\n",
      "result-- 191\n",
      "count 145\n",
      "https://www.espncricinfo.com/ci/content/player/625383.html\n",
      "player- 8 <title>Jasprit Bumrah profile and biography, stats, records, averages, photos and videos</title>\n",
      "['Jasprit Jasbirsingh Bumrah', 'December 06, 1993, Ahmedabad', '27y 174d', 'Right hand bat', 'Right arm fast', 'Bowler', [['3rd Outstanding bowling analyses in an innings (5/7)', '6th Most consecutive ducks (3)', '9th Fastest to 100 wickets (57)', '2nd Most wickets in a calendar year (28)', '1st Most maidens in an innings (2)', '5th Most wickets taken bowled (24)']]]\n",
      "{'World Cup': {'Span': '2019-2019', 'Mat': '9', 'Runs': '1', 'HS': '1*', 'Bat Avg': '-', '100s': '0', 'Wkts': '18', 'BBI': '4/55', 'Bowl Avg': '20.61', '5w': '0', 'Ct': '1', 'St': '0', 'Avg Diff': '-'}, 'Asia Cup': {'Span': '2016-2018', 'Mat': '9', 'Runs': '-', 'HS': '-', 'Bat Avg': '-', '100s': '-', 'Wkts': '14', 'BBI': '3/37', 'Bowl Avg': '15.85', '5w': '0', 'Ct': '4', 'St': '0', 'Avg Diff': '-'}, 'Border-Gavaskar': {'Span': '2018-2021', 'Mat': '7', 'Runs': '10', 'HS': '4*', 'Bat Avg': '2.00', '100s': '0', 'Wkts': '32', 'BBI': '6/33', 'Bowl Avg': '21.25', '5w': '1', 'Ct': '1', 'St': '0', 'Avg Diff': '-19.25'}, 'ICC Champions Trophy': {'Span': '2017-2017', 'Mat': '5', 'Runs': '1', 'HS': '1', 'Bat Avg': '1.00', '100s': '0', 'Wkts': '4', 'BBI': '2/28', 'Bowl Avg': '52.50', '5w': '0', 'Ct': '1', 'St': '0', 'Avg Diff': '-51.5'}, 'ICC World Test Champ': {'Span': '2019-2021', 'Mat': '9', 'Runs': '29', 'HS': '10*', 'Bat Avg': '3.62', '100s': '0', 'Wkts': '34', 'BBI': '6/27', 'Bowl Avg': '22.41', '5w': '2', 'Ct': '2', 'St': '0', 'Avg Diff': '-18.78'}, \"Men's T20 World Cup\": {'Span': '2016-2016', 'Mat': '5', 'Runs': '0', 'HS': '0*', 'Bat Avg': '-', '100s': '0', 'Wkts': '4', 'BBI': '1/15', 'Bowl Avg': '38.25', '5w': '0', 'Ct': '0', 'St': '0', 'Avg Diff': '-'}}\n",
      "https://img1.hscicdn.com/image/upload/f_auto,t_gn_f_345/lsci/db/PICTURES/CMS/319900/319940.png\n",
      "Head count 14\n",
      "Head count 15\n",
      "label-- 219\n",
      "result-- 219\n",
      "count 171\n",
      "https://www.espncricinfo.com/ci/content/player/430246.html\n"
     ]
    },
    {
     "name": "stdout",
     "output_type": "stream",
     "text": [
      "player- 9 <title>Yuzvendra Chahal profile and biography, stats, records, averages, photos and videos</title>\n",
      "['Yuzvendra Singh Chahal', 'July 23, 1990, Jind, Haryana', '30y 310d', 'Right hand bat', 'Legbreak googly', 'Bowler', [['8th Worst economy rate in an innings (12.36)', '4th Outstanding bowling analyses in an innings (6/25)', '1st Most consecutive four-wickets-in-an-innings (2)', '5th Most runs conceded in an innings (64)', '6th Most wickets taken stumped (9)', '5th Fastest to 50 wickets (34)']]]\n",
      "{'World Cup': {'Span': '2019-2019', 'Mat': '8', 'Runs': '5', 'HS': '5', 'Bat Avg': '5.00', '100s': '0', 'Wkts': '12', 'BBI': '4/51', 'Bowl Avg': '36.83', '5w': '0', 'Ct': '4', 'St': '0', 'Avg Diff': '-31.83'}, 'Asia Cup': {'Span': '2018-2018', 'Mat': '5', 'Runs': '-', 'HS': '-', 'Bat Avg': '-', '100s': '-', 'Wkts': '6', 'BBI': '3/46', 'Bowl Avg': '32.83', '5w': '0', 'Ct': '2', 'St': '0', 'Avg Diff': '-'}}\n",
      "https://img1.hscicdn.com/image/upload/f_auto,t_gn_f_345/lsci/db/PICTURES/CMS/319900/319955.png\n",
      "Head count 14\n",
      "Head count 15\n",
      "label-- 191\n",
      "result-- 191\n",
      "count 144\n"
     ]
    }
   ],
   "source": [
    "import time\n",
    "final_list_players = list()\n",
    "for i in range(10):\n",
    "    u = \"https://www.espncricinfo.com\"\n",
    "    rl = l[i][\"href\"]\n",
    "    link = u+rl\n",
    "    print(link)\n",
    "    #link = \"https://www.espncricinfo.com/player/virat-kohli-253802\"\n",
    "    req = requests.get(link)\n",
    "    time.sleep(2)\n",
    "    print('player-',i,end=\" \")\n",
    "    ind = i\n",
    "    record_url = req.url+str(\"/tests-odi-t20-records\")\n",
    "    debut_url = req.url+str(\"/matches\")\n",
    "    #debut(debut_url)\n",
    "    load(req,final_list_players,ind,record_url,debut_url)\n",
    "    #print(record_url)\n",
    "    #jk = extra(record_url)\n",
    "    #print(jk)\n",
    "driver.close()"
   ]
  },
  {
   "cell_type": "code",
   "execution_count": null,
   "metadata": {
    "id": "MDnjpeuGXJHe"
   },
   "outputs": [],
   "source": [
    "a = final_list_players[0]"
   ]
  },
  {
   "cell_type": "code",
   "execution_count": null,
   "metadata": {
    "id": "iLhYUC9YY9-6"
   },
   "outputs": [],
   "source": [
    "a"
   ]
  },
  {
   "cell_type": "code",
   "execution_count": null,
   "metadata": {
    "id": "_tvPb2lHtuAa"
   },
   "outputs": [],
   "source": [
    "df = a.T\n",
    "for i in range(1,len(final_list_players)):\n",
    "    lo = final_list_players[i].T\n",
    "    df = pd.concat([df,lo],axis=1)"
   ]
  },
  {
   "cell_type": "code",
   "execution_count": null,
   "metadata": {
    "id": "4nRJDjbatuAa",
    "scrolled": true
   },
   "outputs": [],
   "source": [
    "df.T.shape\n",
    "df.T.columns.tolist()"
   ]
  },
  {
   "cell_type": "code",
   "execution_count": null,
   "metadata": {
    "id": "UZ3REl0HXJHk"
   },
   "outputs": [],
   "source": [
    "df.T"
   ]
  },
  {
   "cell_type": "code",
   "execution_count": null,
   "metadata": {},
   "outputs": [],
   "source": []
  },
  {
   "cell_type": "code",
   "execution_count": null,
   "metadata": {},
   "outputs": [],
   "source": []
  },
  {
   "cell_type": "code",
   "execution_count": null,
   "metadata": {},
   "outputs": [],
   "source": []
  },
  {
   "cell_type": "code",
   "execution_count": null,
   "metadata": {},
   "outputs": [],
   "source": []
  }
 ],
 "metadata": {
  "colab": {
   "collapsed_sections": [],
   "name": "full_dataset.ipynb",
   "provenance": []
  },
  "kernelspec": {
   "display_name": "Gokul_IndicWiki",
   "language": "python",
   "name": "gokul_indicwiki"
  },
  "language_info": {
   "codemirror_mode": {
    "name": "ipython",
    "version": 3
   },
   "file_extension": ".py",
   "mimetype": "text/x-python",
   "name": "python",
   "nbconvert_exporter": "python",
   "pygments_lexer": "ipython3",
   "version": "3.7.10"
  }
 },
 "nbformat": 4,
 "nbformat_minor": 1
}
